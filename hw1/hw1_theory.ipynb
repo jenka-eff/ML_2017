{
 "cells": [
  {
   "cell_type": "markdown",
   "metadata": {
    "collapsed": true
   },
   "source": [
    "# 4. Теоретические задачи"
   ]
  },
  {
   "cell_type": "markdown",
   "metadata": {},
   "source": [
    "## 1.\n",
    "\n",
    "Рассмотрим наивный байесовский классификатор. Класс выбирается по правилу:\n",
    "\n",
    "$c = \\underset{y}{argmax}P(y|x) = \\underset{y}{argmax}P(x|y)P(y)$\n",
    "\n",
    "Т.к. $P(y)$ по условию одинаковы, рассмотрим $P(x|y)$:\n",
    "\n",
    "$P(x|y) = \\prod_{k=1}^n P(x^{(k)}|y) = \\frac{1}{\\sqrt{2\\pi\\sigma}^n} \\cdot e^{-\\frac{\\sum_{k=1}^n(x^{(k)}-\\mu_{yk})^2}{2\\sigma}}$\n",
    "\n",
    "Т.к. под экспонентой стоит евклидово расстояние от точки $x$ до центра класса $y$, классификация действительно остановится на том классе, центр которого ближе находится к $x$. "
   ]
  },
  {
   "cell_type": "markdown",
   "metadata": {},
   "source": [
    "## 2.\n",
    "\n",
    "Рассмотрим, от чего зависит вид ROC-AUC кривой. \n",
    "\n",
    "$TPR = \\frac{tp}{tp + fn}$\n",
    "\n",
    "$FPR = \\frac{fp}{fp + tn}$\n",
    "\n",
    "Для того, чтобы площадь под графиком была равна 0.5 в случае треугольного ROC-AUC, ннобходимо равенство TPR и FPR. Пусть общее количество объектов - N, доля объектов первого класса - $\\alpha$, доля объектов второго класса - $(1 - \\alpha)$. Тогда:\n",
    "\n",
    "$tp = p \\cdot \\alpha \\cdot N$\n",
    "\n",
    "$fp = p \\cdot (1 - \\alpha) \\cdot N$\n",
    "\n",
    "$tn = (1 - p)\\cdot (1 - \\alpha) \\cdot N$\n",
    "\n",
    "$fn = (1 - p)\\cdot \\alpha \\cdot N$\n",
    "\n",
    "Следовательно, \n",
    "\n",
    "$TPR = \\frac{tp}{tp + fn} = \\frac{p \\cdot \\alpha \\cdot N}{p \\cdot \\alpha \\cdot N + (1 - p)\\cdot \\alpha \\cdot N} = p$\n",
    "\n",
    "$FPR = \\frac{fp}{fp + tn} = \\frac{p \\cdot (1 - \\alpha) \\cdot N}{p \\cdot (1 - \\alpha) \\cdot N + (1 - p)\\cdot (1 - \\alpha) \\cdot N} = p$\n",
    "\n",
    "Следовательно, наше предположение верно, TPR = FPR и площадь под графиком действительно равна 0.5."
   ]
  },
  {
   "cell_type": "markdown",
   "metadata": {},
   "source": [
    "## 3.\n",
    "\n",
    "Байесовский классификатор ошибается на фиксированном объекте x с вероятностью:\n",
    "\n",
    "$E_B = min \\{P(x|0), P(x|1)\\}$\n",
    "\n",
    "Метод ближайшего соседа ошибается с вероятностью:\n",
    "\n",
    "$E_N = P(y \\neq y_n) = P(y = 0)P(y_n = 1) + P(y = 1)P(y_n = 0) = P(x|0)P(x_n|1) + P(x|1)P(x_n|0) \\underset{n \\rightarrow \\infty}{\\rightarrow} 2 \\cdot P(x|0) P(x|1) = 2 \\cdot (1 - E_B) E_B \\le 2 \\cdot E_B$\n",
    "\n",
    "при устремлении n к бесконечности распределение методом ближайшего соседа стремится к распределению классов по всей выборке."
   ]
  }
 ],
 "metadata": {
  "anaconda-cloud": {},
  "kernelspec": {
   "display_name": "Python [default]",
   "language": "python",
   "name": "python3"
  },
  "language_info": {
   "codemirror_mode": {
    "name": "ipython",
    "version": 3
   },
   "file_extension": ".py",
   "mimetype": "text/x-python",
   "name": "python",
   "nbconvert_exporter": "python",
   "pygments_lexer": "ipython3",
   "version": "3.5.2"
  }
 },
 "nbformat": 4,
 "nbformat_minor": 1
}
