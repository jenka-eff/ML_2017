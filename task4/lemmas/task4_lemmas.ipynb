{
 "cells": [
  {
   "cell_type": "code",
   "execution_count": 1,
   "metadata": {
    "collapsed": false
   },
   "outputs": [],
   "source": [
    "from sklearn import svm\n",
    "import pandas as pd\n",
    "import numpy as np\n",
    "from sklearn.metrics import accuracy_score\n",
    "from sklearn.model_selection import train_test_split\n",
    "from sklearn.model_selection import cross_val_score\n",
    "from sklearn.linear_model import LogisticRegression"
   ]
  },
  {
   "cell_type": "code",
   "execution_count": 2,
   "metadata": {
    "collapsed": false
   },
   "outputs": [
    {
     "name": "stdout",
     "output_type": "stream",
     "text": [
      "(29661, 116477)\n"
     ]
    }
   ],
   "source": [
    "# считываем данные, пропустим данные, где количество правильных ответов больше одного\n",
    "test = pd.read_csv(\"task2_lemmas_test\")\n",
    "train = pd.read_csv(\"task2_lemmas_train\", error_bad_lines=False, warn_bad_lines=False)\n",
    "print(len(test), len(train))"
   ]
  },
  {
   "cell_type": "code",
   "execution_count": 3,
   "metadata": {
    "collapsed": false,
    "scrolled": true
   },
   "outputs": [
    {
     "data": {
      "text/html": [
       "<div>\n",
       "<table border=\"1\" class=\"dataframe\">\n",
       "  <thead>\n",
       "    <tr style=\"text-align: right;\">\n",
       "      <th></th>\n",
       "      <th>Id</th>\n",
       "      <th>X</th>\n",
       "      <th>y</th>\n",
       "    </tr>\n",
       "  </thead>\n",
       "  <tbody>\n",
       "    <tr>\n",
       "      <th>0</th>\n",
       "      <td>1</td>\n",
       "      <td>vergognerete</td>\n",
       "      <td>vergognare+V</td>\n",
       "    </tr>\n",
       "    <tr>\n",
       "      <th>1</th>\n",
       "      <td>2</td>\n",
       "      <td>amnistiavate</td>\n",
       "      <td>amnistiare+V</td>\n",
       "    </tr>\n",
       "    <tr>\n",
       "      <th>2</th>\n",
       "      <td>3</td>\n",
       "      <td>menomazione</td>\n",
       "      <td>menomazione+N</td>\n",
       "    </tr>\n",
       "    <tr>\n",
       "      <th>3</th>\n",
       "      <td>4</td>\n",
       "      <td>sfaldavamo</td>\n",
       "      <td>sfaldare+V</td>\n",
       "    </tr>\n",
       "    <tr>\n",
       "      <th>4</th>\n",
       "      <td>5</td>\n",
       "      <td>sfodererei</td>\n",
       "      <td>sfoderare+V</td>\n",
       "    </tr>\n",
       "  </tbody>\n",
       "</table>\n",
       "</div>"
      ],
      "text/plain": [
       "   Id             X              y\n",
       "0   1  vergognerete   vergognare+V\n",
       "1   2  amnistiavate   amnistiare+V\n",
       "2   3   menomazione  menomazione+N\n",
       "3   4    sfaldavamo     sfaldare+V\n",
       "4   5    sfodererei    sfoderare+V"
      ]
     },
     "execution_count": 3,
     "metadata": {},
     "output_type": "execute_result"
    }
   ],
   "source": [
    "train.head()"
   ]
  },
  {
   "cell_type": "markdown",
   "metadata": {},
   "source": [
    "Нужно разделить столбец Y на нормальную форму и часть речи"
   ]
  },
  {
   "cell_type": "code",
   "execution_count": 4,
   "metadata": {
    "collapsed": false,
    "scrolled": true
   },
   "outputs": [
    {
     "data": {
      "text/html": [
       "<div>\n",
       "<table border=\"1\" class=\"dataframe\">\n",
       "  <thead>\n",
       "    <tr style=\"text-align: right;\">\n",
       "      <th></th>\n",
       "      <th>X</th>\n",
       "      <th>norm</th>\n",
       "      <th>part</th>\n",
       "    </tr>\n",
       "  </thead>\n",
       "  <tbody>\n",
       "    <tr>\n",
       "      <th>0</th>\n",
       "      <td>vergognerete</td>\n",
       "      <td>vergognare</td>\n",
       "      <td>V</td>\n",
       "    </tr>\n",
       "    <tr>\n",
       "      <th>1</th>\n",
       "      <td>amnistiavate</td>\n",
       "      <td>amnistiare</td>\n",
       "      <td>V</td>\n",
       "    </tr>\n",
       "    <tr>\n",
       "      <th>2</th>\n",
       "      <td>menomazione</td>\n",
       "      <td>menomazione</td>\n",
       "      <td>N</td>\n",
       "    </tr>\n",
       "    <tr>\n",
       "      <th>3</th>\n",
       "      <td>sfaldavamo</td>\n",
       "      <td>sfaldare</td>\n",
       "      <td>V</td>\n",
       "    </tr>\n",
       "    <tr>\n",
       "      <th>4</th>\n",
       "      <td>sfodererei</td>\n",
       "      <td>sfoderare</td>\n",
       "      <td>V</td>\n",
       "    </tr>\n",
       "  </tbody>\n",
       "</table>\n",
       "</div>"
      ],
      "text/plain": [
       "              X         norm part\n",
       "0  vergognerete   vergognare    V\n",
       "1  amnistiavate   amnistiare    V\n",
       "2   menomazione  menomazione    N\n",
       "3    sfaldavamo     sfaldare    V\n",
       "4    sfodererei    sfoderare    V"
      ]
     },
     "execution_count": 4,
     "metadata": {},
     "output_type": "execute_result"
    }
   ],
   "source": [
    "train['norm'] = train['y'].apply(lambda x: x[:-2])\n",
    "train['part'] = train['y'].apply(lambda x: x[-1:])\n",
    "train = train.drop(['Id', 'y'], axis=1)\n",
    "train.head()"
   ]
  },
  {
   "cell_type": "markdown",
   "metadata": {},
   "source": [
    "Сначала будем предсказывать часть речи, используем для этого n-граммы как в предыдущем контесте"
   ]
  },
  {
   "cell_type": "code",
   "execution_count": 5,
   "metadata": {
    "collapsed": true
   },
   "outputs": [],
   "source": [
    "from sklearn.feature_extraction.text import CountVectorizer"
   ]
  },
  {
   "cell_type": "code",
   "execution_count": 6,
   "metadata": {
    "collapsed": false
   },
   "outputs": [],
   "source": [
    "xtrain, xtest = train_test_split(train.drop('norm', axis=1))"
   ]
  },
  {
   "cell_type": "code",
   "execution_count": 7,
   "metadata": {
    "collapsed": false
   },
   "outputs": [
    {
     "name": "stdout",
     "output_type": "stream",
     "text": [
      "Wall time: 10 s\n"
     ]
    }
   ],
   "source": [
    "%%time\n",
    "vectorizer = CountVectorizer(ngram_range=(2,8), analyzer='char_wb', max_df=0.84)\n",
    "\n",
    "# извлекаем признаки из данных, признаками будут n-граммы и сразу же делаем матрицу признаков\n",
    "train_matrix = vectorizer.fit_transform(xtrain['X'])"
   ]
  },
  {
   "cell_type": "code",
   "execution_count": null,
   "metadata": {
    "collapsed": false
   },
   "outputs": [
    {
     "data": {
      "text/plain": [
       "<87357x430069 sparse matrix of type '<type 'numpy.int64'>'\n",
       "\twith 5162284 stored elements in Compressed Sparse Row format>"
      ]
     },
     "execution_count": 8,
     "metadata": {},
     "output_type": "execute_result"
    }
   ],
   "source": [
    "# получили разреженную матрицу\n",
    "train_matrix"
   ]
  },
  {
   "cell_type": "code",
   "execution_count": null,
   "metadata": {
    "collapsed": false
   },
   "outputs": [],
   "source": [
    "# теперь обучаем нашу модель на извлечённых признаках, признаков много, поэтому используем регуляризацию l1, которая\n",
    "# осуществляет отбор признаков\n",
    "model = LogisticRegression(penalty='l1', n_jobs=-1, random_state=13)\n",
    "model.fit(train_matrix, xtrain['part'])\n",
    "predictions = model.predict(vectorizer.transform(xtest['X']))"
   ]
  },
  {
   "cell_type": "code",
   "execution_count": null,
   "metadata": {
    "collapsed": false
   },
   "outputs": [],
   "source": [
    "print(predictions[:5])"
   ]
  },
  {
   "cell_type": "code",
   "execution_count": null,
   "metadata": {
    "collapsed": false
   },
   "outputs": [],
   "source": [
    "print(accuracy_score(predictions, xtest['part']))"
   ]
  },
  {
   "cell_type": "markdown",
   "metadata": {},
   "source": [
    "Нужно определить нормальную форму. Нужно отсечь приставку и окончание от слова и добавить другие приставку и окончание"
   ]
  },
  {
   "cell_type": "markdown",
   "metadata": {},
   "source": [
    "Посмотрим, у скольких слов не совпадают приставки и у скольких не совпадают окончания"
   ]
  },
  {
   "cell_type": "code",
   "execution_count": null,
   "metadata": {
    "collapsed": false
   },
   "outputs": [],
   "source": [
    "pref = 0\n",
    "suf = 0\n",
    "for i in range(len(train)):\n",
    "    if train.iloc[i, 0][:2] != train.iloc[i, 1][:2]:\n",
    "        pref += 1\n",
    "    if train.iloc[i, 0][-2:] != train.iloc[i, 1][-2:]:\n",
    "        suf += 1\n",
    "print(pref, suf, len(train))"
   ]
  },
  {
   "cell_type": "markdown",
   "metadata": {},
   "source": [
    "Слов с несовпадающими приставками очень мало, не будем обращать на них внимание. Пусть один классификатор определяет, сколько букв нужно отсечь от слова, а другой - какое окончание нужно сделать"
   ]
  },
  {
   "cell_type": "code",
   "execution_count": 5,
   "metadata": {
    "collapsed": false
   },
   "outputs": [],
   "source": [
    "# возвращает количество букв, которые нужно отсечь от слова\n",
    "def cut_suf(word, norm):\n",
    "    if word == norm:\n",
    "        return 0\n",
    "    count = 1\n",
    "    while word[count] == norm[count] and count < len(word)-1 and count < len(norm)-1:\n",
    "        count += 1\n",
    "    return len(word) - count"
   ]
  },
  {
   "cell_type": "code",
   "execution_count": 6,
   "metadata": {
    "collapsed": true
   },
   "outputs": [],
   "source": [
    "# возвращает окончание, которое нужно приписать к слову\n",
    "def concat_suf(word, norm):\n",
    "    pref = len(word) - cut_suf(word, norm)\n",
    "    return norm[pref:]"
   ]
  },
  {
   "cell_type": "code",
   "execution_count": 7,
   "metadata": {
    "collapsed": false,
    "scrolled": false
   },
   "outputs": [
    {
     "data": {
      "text/html": [
       "<div>\n",
       "<table border=\"1\" class=\"dataframe\">\n",
       "  <thead>\n",
       "    <tr style=\"text-align: right;\">\n",
       "      <th></th>\n",
       "      <th>X</th>\n",
       "      <th>norm</th>\n",
       "      <th>part</th>\n",
       "      <th>to_cut</th>\n",
       "      <th>suf</th>\n",
       "    </tr>\n",
       "  </thead>\n",
       "  <tbody>\n",
       "    <tr>\n",
       "      <th>0</th>\n",
       "      <td>vergognerete</td>\n",
       "      <td>vergognare</td>\n",
       "      <td>V</td>\n",
       "      <td>5</td>\n",
       "      <td>are</td>\n",
       "    </tr>\n",
       "    <tr>\n",
       "      <th>1</th>\n",
       "      <td>amnistiavate</td>\n",
       "      <td>amnistiare</td>\n",
       "      <td>V</td>\n",
       "      <td>4</td>\n",
       "      <td>re</td>\n",
       "    </tr>\n",
       "    <tr>\n",
       "      <th>2</th>\n",
       "      <td>menomazione</td>\n",
       "      <td>menomazione</td>\n",
       "      <td>N</td>\n",
       "      <td>0</td>\n",
       "      <td></td>\n",
       "    </tr>\n",
       "    <tr>\n",
       "      <th>3</th>\n",
       "      <td>sfaldavamo</td>\n",
       "      <td>sfaldare</td>\n",
       "      <td>V</td>\n",
       "      <td>4</td>\n",
       "      <td>re</td>\n",
       "    </tr>\n",
       "    <tr>\n",
       "      <th>4</th>\n",
       "      <td>sfodererei</td>\n",
       "      <td>sfoderare</td>\n",
       "      <td>V</td>\n",
       "      <td>4</td>\n",
       "      <td>are</td>\n",
       "    </tr>\n",
       "  </tbody>\n",
       "</table>\n",
       "</div>"
      ],
      "text/plain": [
       "              X         norm part  to_cut  suf\n",
       "0  vergognerete   vergognare    V       5  are\n",
       "1  amnistiavate   amnistiare    V       4   re\n",
       "2   menomazione  menomazione    N       0     \n",
       "3    sfaldavamo     sfaldare    V       4   re\n",
       "4    sfodererei    sfoderare    V       4  are"
      ]
     },
     "execution_count": 7,
     "metadata": {},
     "output_type": "execute_result"
    }
   ],
   "source": [
    "to_cut = [cut_suf(w1, w2) for w1, w2 in zip(train['X'], train['norm'])]\n",
    "ssuf = [concat_suf(w1, w2) for w1, w2 in zip(train['X'], train['norm'])]\n",
    "train['to_cut'] = to_cut\n",
    "train['suf'] = ssuf\n",
    "train.head()"
   ]
  },
  {
   "cell_type": "code",
   "execution_count": 8,
   "metadata": {
    "collapsed": false
   },
   "outputs": [
    {
     "name": "stdout",
     "output_type": "stream",
     "text": [
      "83\n"
     ]
    }
   ],
   "source": [
    "# смотрим, сколько различных суффиксов получилось\n",
    "print(len(np.unique(ssuf)))"
   ]
  },
  {
   "cell_type": "markdown",
   "metadata": {},
   "source": [
    "Обучаем классификаторы для определения того, сколько букв отсечь"
   ]
  },
  {
   "cell_type": "code",
   "execution_count": null,
   "metadata": {
    "collapsed": true
   },
   "outputs": [],
   "source": [
    "xtrain, xtest = train_test_split(train.drop(['norm', 'part', 'suf'], axis=1))"
   ]
  },
  {
   "cell_type": "code",
   "execution_count": null,
   "metadata": {
    "collapsed": false
   },
   "outputs": [],
   "source": [
    "%%time\n",
    "vectorizer = CountVectorizer(ngram_range=(3,5), analyzer='char_wb', max_df=0.84)\n",
    "train_matrix = vectorizer.fit_transform(xtrain['X'])"
   ]
  },
  {
   "cell_type": "code",
   "execution_count": null,
   "metadata": {
    "collapsed": true
   },
   "outputs": [],
   "source": [
    "model = LogisticRegression(penalty='l1', n_jobs=-1, random_state=13)\n",
    "model.fit(train_matrix, xtrain['to_cut'])\n",
    "predictions = model.predict(vectorizer.transform(xtest['X']))"
   ]
  },
  {
   "cell_type": "code",
   "execution_count": null,
   "metadata": {
    "collapsed": false
   },
   "outputs": [],
   "source": [
    "print(accuracy_score(predictions, xtest['to_cut']))"
   ]
  },
  {
   "cell_type": "markdown",
   "metadata": {},
   "source": [
    "Для суффиксов скорее всего тоже будет работать более менее хорошо, попробуем сделать посылку"
   ]
  },
  {
   "cell_type": "markdown",
   "metadata": {},
   "source": [
    "# Make a submission!"
   ]
  },
  {
   "cell_type": "code",
   "execution_count": 9,
   "metadata": {
    "collapsed": false,
    "scrolled": true
   },
   "outputs": [
    {
     "data": {
      "text/html": [
       "<div>\n",
       "<table border=\"1\" class=\"dataframe\">\n",
       "  <thead>\n",
       "    <tr style=\"text-align: right;\">\n",
       "      <th></th>\n",
       "      <th>Id</th>\n",
       "      <th>X</th>\n",
       "    </tr>\n",
       "  </thead>\n",
       "  <tbody>\n",
       "    <tr>\n",
       "      <th>0</th>\n",
       "      <td>1</td>\n",
       "      <td>gettonan</td>\n",
       "    </tr>\n",
       "    <tr>\n",
       "      <th>1</th>\n",
       "      <td>2</td>\n",
       "      <td>incidentali</td>\n",
       "    </tr>\n",
       "    <tr>\n",
       "      <th>2</th>\n",
       "      <td>3</td>\n",
       "      <td>involtino</td>\n",
       "    </tr>\n",
       "    <tr>\n",
       "      <th>3</th>\n",
       "      <td>4</td>\n",
       "      <td>lievi</td>\n",
       "    </tr>\n",
       "    <tr>\n",
       "      <th>4</th>\n",
       "      <td>5</td>\n",
       "      <td>comunistizzasse</td>\n",
       "    </tr>\n",
       "  </tbody>\n",
       "</table>\n",
       "</div>"
      ],
      "text/plain": [
       "   Id                X\n",
       "0   1         gettonan\n",
       "1   2      incidentali\n",
       "2   3        involtino\n",
       "3   4            lievi\n",
       "4   5  comunistizzasse"
      ]
     },
     "execution_count": 9,
     "metadata": {},
     "output_type": "execute_result"
    }
   ],
   "source": [
    "test.head()"
   ]
  },
  {
   "cell_type": "code",
   "execution_count": 10,
   "metadata": {
    "collapsed": false
   },
   "outputs": [
    {
     "data": {
      "text/html": [
       "<div>\n",
       "<table border=\"1\" class=\"dataframe\">\n",
       "  <thead>\n",
       "    <tr style=\"text-align: right;\">\n",
       "      <th></th>\n",
       "      <th>X</th>\n",
       "      <th>norm</th>\n",
       "      <th>part</th>\n",
       "      <th>to_cut</th>\n",
       "      <th>suf</th>\n",
       "    </tr>\n",
       "  </thead>\n",
       "  <tbody>\n",
       "    <tr>\n",
       "      <th>116472</th>\n",
       "      <td>posereste</td>\n",
       "      <td>posare</td>\n",
       "      <td>V</td>\n",
       "      <td>6</td>\n",
       "      <td>are</td>\n",
       "    </tr>\n",
       "    <tr>\n",
       "      <th>116473</th>\n",
       "      <td>cogestiste</td>\n",
       "      <td>cogestire</td>\n",
       "      <td>V</td>\n",
       "      <td>3</td>\n",
       "      <td>re</td>\n",
       "    </tr>\n",
       "    <tr>\n",
       "      <th>116474</th>\n",
       "      <td>autocorreggerebbero</td>\n",
       "      <td>autocorreggere</td>\n",
       "      <td>V</td>\n",
       "      <td>6</td>\n",
       "      <td>e</td>\n",
       "    </tr>\n",
       "    <tr>\n",
       "      <th>116475</th>\n",
       "      <td>gorgogliassimo</td>\n",
       "      <td>gorgogliare</td>\n",
       "      <td>V</td>\n",
       "      <td>5</td>\n",
       "      <td>re</td>\n",
       "    </tr>\n",
       "    <tr>\n",
       "      <th>116476</th>\n",
       "      <td>desecretaste</td>\n",
       "      <td>desecretare</td>\n",
       "      <td>V</td>\n",
       "      <td>3</td>\n",
       "      <td>re</td>\n",
       "    </tr>\n",
       "  </tbody>\n",
       "</table>\n",
       "</div>"
      ],
      "text/plain": [
       "                          X            norm part  to_cut  suf\n",
       "116472            posereste          posare    V       6  are\n",
       "116473           cogestiste       cogestire    V       3   re\n",
       "116474  autocorreggerebbero  autocorreggere    V       6    e\n",
       "116475       gorgogliassimo     gorgogliare    V       5   re\n",
       "116476         desecretaste     desecretare    V       3   re"
      ]
     },
     "execution_count": 10,
     "metadata": {},
     "output_type": "execute_result"
    }
   ],
   "source": [
    "train.tail()"
   ]
  },
  {
   "cell_type": "code",
   "execution_count": 30,
   "metadata": {
    "collapsed": false
   },
   "outputs": [],
   "source": [
    "from sklearn.feature_extraction.text import CountVectorizer"
   ]
  },
  {
   "cell_type": "code",
   "execution_count": 32,
   "metadata": {
    "collapsed": false
   },
   "outputs": [
    {
     "name": "stdout",
     "output_type": "stream",
     "text": [
      "Wall time: 13.2 s\n"
     ]
    }
   ],
   "source": [
    "%%time\n",
    "vectorizer = CountVectorizer(ngram_range=(2, 8), analyzer='char_wb', max_df=0.84)\n",
    "train_matrix = vectorizer.fit_transform(train['X'])\n",
    "test_matrix = vectorizer.transform(test['X'])"
   ]
  },
  {
   "cell_type": "code",
   "execution_count": 33,
   "metadata": {
    "collapsed": false
   },
   "outputs": [
    {
     "name": "stdout",
     "output_type": "stream",
     "text": [
      "Wall time: 29.3 s\n"
     ]
    }
   ],
   "source": [
    "%%time\n",
    "# для части речи\n",
    "model = LogisticRegression(penalty='l1', n_jobs=-1, random_state=13)\n",
    "model.fit(train_matrix, train['part'])\n",
    "part = model.predict(test_matrix)"
   ]
  },
  {
   "cell_type": "code",
   "execution_count": 34,
   "metadata": {
    "collapsed": false
   },
   "outputs": [
    {
     "name": "stdout",
     "output_type": "stream",
     "text": [
      "Wall time: 1min 54s\n"
     ]
    }
   ],
   "source": [
    "%%time\n",
    "# сколько букв отрезать\n",
    "model = LogisticRegression(penalty='l1', n_jobs=-1, random_state=42)\n",
    "model.fit(train_matrix, train['to_cut'])\n",
    "to_cut = model.predict(test_matrix)"
   ]
  },
  {
   "cell_type": "code",
   "execution_count": 35,
   "metadata": {
    "collapsed": false
   },
   "outputs": [
    {
     "name": "stdout",
     "output_type": "stream",
     "text": [
      "Wall time: 10min 12s\n"
     ]
    }
   ],
   "source": [
    "%%time\n",
    "# какие буквы добавить\n",
    "model = LogisticRegression(n_jobs=-1, random_state=6)\n",
    "model.fit(train_matrix, train['suf'])\n",
    "suf = model.predict(test_matrix)"
   ]
  },
  {
   "cell_type": "code",
   "execution_count": 36,
   "metadata": {
    "collapsed": true
   },
   "outputs": [],
   "source": [
    "def cut_word(w, n):\n",
    "    if n==0:\n",
    "        return w\n",
    "    else:\n",
    "        return w[:-n]"
   ]
  },
  {
   "cell_type": "code",
   "execution_count": 37,
   "metadata": {
    "collapsed": false
   },
   "outputs": [],
   "source": [
    "initials = [cut_word(test.iloc[i,1], to_cut[i]) for i in range (len(test))]"
   ]
  },
  {
   "cell_type": "code",
   "execution_count": 38,
   "metadata": {
    "collapsed": false
   },
   "outputs": [
    {
     "data": {
      "text/plain": [
       "['cucio',\n",
       " 'snobba',\n",
       " 'tesser',\n",
       " 'coagulare',\n",
       " 'somatizzar',\n",
       " 'impoveriment',\n",
       " 'smunger',\n",
       " 'abbuff',\n",
       " 'meraviglia',\n",
       " 'risucchi']"
      ]
     },
     "execution_count": 38,
     "metadata": {},
     "output_type": "execute_result"
    }
   ],
   "source": [
    "initials[10:20]"
   ]
  },
  {
   "cell_type": "code",
   "execution_count": 39,
   "metadata": {
    "collapsed": false
   },
   "outputs": [],
   "source": [
    "answer = [initials[i]+suf[i]+'+'+part[i] for i in range(len(test))]"
   ]
  },
  {
   "cell_type": "code",
   "execution_count": 40,
   "metadata": {
    "collapsed": false
   },
   "outputs": [],
   "source": [
    "final = pd.DataFrame(data=test['Id'], columns=['Id'])"
   ]
  },
  {
   "cell_type": "code",
   "execution_count": 41,
   "metadata": {
    "collapsed": true
   },
   "outputs": [],
   "source": [
    "final['Category'] = answer"
   ]
  },
  {
   "cell_type": "code",
   "execution_count": 43,
   "metadata": {
    "collapsed": false
   },
   "outputs": [],
   "source": [
    "final.to_csv('fourth_super_submission.csv', index=False)"
   ]
  },
  {
   "cell_type": "markdown",
   "metadata": {},
   "source": [
    "# Finish"
   ]
  },
  {
   "cell_type": "code",
   "execution_count": null,
   "metadata": {
    "collapsed": true
   },
   "outputs": [],
   "source": []
  },
  {
   "cell_type": "code",
   "execution_count": null,
   "metadata": {
    "collapsed": true
   },
   "outputs": [],
   "source": []
  }
 ],
 "metadata": {
  "kernelspec": {
   "display_name": "Python 2",
   "language": "python",
   "name": "python2"
  },
  "language_info": {
   "codemirror_mode": {
    "name": "ipython",
    "version": 2
   },
   "file_extension": ".py",
   "mimetype": "text/x-python",
   "name": "python",
   "nbconvert_exporter": "python",
   "pygments_lexer": "ipython2",
   "version": "2.7.13"
  }
 },
 "nbformat": 4,
 "nbformat_minor": 2
}
