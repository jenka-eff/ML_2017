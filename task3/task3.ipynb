{
 "cells": [
  {
   "cell_type": "code",
   "execution_count": 1,
   "metadata": {
    "collapsed": false
   },
   "outputs": [],
   "source": [
    "import pandas as pd\n",
    "from sklearn.ensemble import GradientBoostingRegressor\n",
    "import sklearn\n",
    "import numpy as np\n",
    "from sklearn.model_selection import cross_val_score\n",
    "from sklearn.model_selection import TimeSeriesSplit\n",
    "from sklearn.metrics import make_scorer"
   ]
  },
  {
   "cell_type": "code",
   "execution_count": 2,
   "metadata": {
    "collapsed": true
   },
   "outputs": [],
   "source": [
    "import os\n",
    "mingw_path = 'C:\\\\Program Files\\\\mingw-w64\\\\x86_64-5.3.0-posix-seh-rt_v4-rev0\\\\mingw64\\\\bin'\n",
    "os.environ['PATH'] = mingw_path + ';' + os.environ['PATH']"
   ]
  },
  {
   "cell_type": "code",
   "execution_count": 3,
   "metadata": {
    "collapsed": false
   },
   "outputs": [
    {
     "ename": "WindowsError",
     "evalue": "[Error 126] ",
     "output_type": "error",
     "traceback": [
      "\u001b[0;31m---------------------------------------------------------------------------\u001b[0m",
      "\u001b[0;31mWindowsError\u001b[0m                              Traceback (most recent call last)",
      "\u001b[0;32m<ipython-input-3-745aa3a2d734>\u001b[0m in \u001b[0;36m<module>\u001b[0;34m()\u001b[0m\n\u001b[0;32m----> 1\u001b[0;31m \u001b[1;32mimport\u001b[0m \u001b[0mxgboost\u001b[0m \u001b[1;32mas\u001b[0m \u001b[0mxgb\u001b[0m\u001b[1;33m\u001b[0m\u001b[0m\n\u001b[0m",
      "\u001b[0;32mC:\\Program Files\\Anaconda3\\envs\\py27\\lib\\site-packages\\xgboost-0.6-py2.7.egg\\xgboost\\__init__.py\u001b[0m in \u001b[0;36m<module>\u001b[0;34m()\u001b[0m\n\u001b[1;32m      9\u001b[0m \u001b[1;32mimport\u001b[0m \u001b[0mos\u001b[0m\u001b[1;33m\u001b[0m\u001b[0m\n\u001b[1;32m     10\u001b[0m \u001b[1;33m\u001b[0m\u001b[0m\n\u001b[0;32m---> 11\u001b[0;31m \u001b[1;32mfrom\u001b[0m \u001b[1;33m.\u001b[0m\u001b[0mcore\u001b[0m \u001b[1;32mimport\u001b[0m \u001b[0mDMatrix\u001b[0m\u001b[1;33m,\u001b[0m \u001b[0mBooster\u001b[0m\u001b[1;33m\u001b[0m\u001b[0m\n\u001b[0m\u001b[1;32m     12\u001b[0m \u001b[1;32mfrom\u001b[0m \u001b[1;33m.\u001b[0m\u001b[0mtraining\u001b[0m \u001b[1;32mimport\u001b[0m \u001b[0mtrain\u001b[0m\u001b[1;33m,\u001b[0m \u001b[0mcv\u001b[0m\u001b[1;33m\u001b[0m\u001b[0m\n\u001b[1;32m     13\u001b[0m \u001b[1;32mfrom\u001b[0m \u001b[1;33m.\u001b[0m \u001b[1;32mimport\u001b[0m \u001b[0mrabit\u001b[0m                   \u001b[1;31m# noqa\u001b[0m\u001b[1;33m\u001b[0m\u001b[0m\n",
      "\u001b[0;32mC:\\Program Files\\Anaconda3\\envs\\py27\\lib\\site-packages\\xgboost-0.6-py2.7.egg\\xgboost\\core.py\u001b[0m in \u001b[0;36m<module>\u001b[0;34m()\u001b[0m\n\u001b[1;32m    110\u001b[0m \u001b[1;33m\u001b[0m\u001b[0m\n\u001b[1;32m    111\u001b[0m \u001b[1;31m# load the XGBoost library globally\u001b[0m\u001b[1;33m\u001b[0m\u001b[1;33m\u001b[0m\u001b[0m\n\u001b[0;32m--> 112\u001b[0;31m \u001b[0m_LIB\u001b[0m \u001b[1;33m=\u001b[0m \u001b[0m_load_lib\u001b[0m\u001b[1;33m(\u001b[0m\u001b[1;33m)\u001b[0m\u001b[1;33m\u001b[0m\u001b[0m\n\u001b[0m\u001b[1;32m    113\u001b[0m \u001b[1;33m\u001b[0m\u001b[0m\n\u001b[1;32m    114\u001b[0m \u001b[1;33m\u001b[0m\u001b[0m\n",
      "\u001b[0;32mC:\\Program Files\\Anaconda3\\envs\\py27\\lib\\site-packages\\xgboost-0.6-py2.7.egg\\xgboost\\core.py\u001b[0m in \u001b[0;36m_load_lib\u001b[0;34m()\u001b[0m\n\u001b[1;32m    104\u001b[0m     \u001b[1;32mif\u001b[0m \u001b[0mlen\u001b[0m\u001b[1;33m(\u001b[0m\u001b[0mlib_path\u001b[0m\u001b[1;33m)\u001b[0m \u001b[1;33m==\u001b[0m \u001b[1;36m0\u001b[0m\u001b[1;33m:\u001b[0m\u001b[1;33m\u001b[0m\u001b[0m\n\u001b[1;32m    105\u001b[0m         \u001b[1;32mreturn\u001b[0m \u001b[0mNone\u001b[0m\u001b[1;33m\u001b[0m\u001b[0m\n\u001b[0;32m--> 106\u001b[0;31m     \u001b[0mlib\u001b[0m \u001b[1;33m=\u001b[0m \u001b[0mctypes\u001b[0m\u001b[1;33m.\u001b[0m\u001b[0mcdll\u001b[0m\u001b[1;33m.\u001b[0m\u001b[0mLoadLibrary\u001b[0m\u001b[1;33m(\u001b[0m\u001b[0mlib_path\u001b[0m\u001b[1;33m[\u001b[0m\u001b[1;36m0\u001b[0m\u001b[1;33m]\u001b[0m\u001b[1;33m)\u001b[0m\u001b[1;33m\u001b[0m\u001b[0m\n\u001b[0m\u001b[1;32m    107\u001b[0m     \u001b[0mlib\u001b[0m\u001b[1;33m.\u001b[0m\u001b[0mXGBGetLastError\u001b[0m\u001b[1;33m.\u001b[0m\u001b[0mrestype\u001b[0m \u001b[1;33m=\u001b[0m \u001b[0mctypes\u001b[0m\u001b[1;33m.\u001b[0m\u001b[0mc_char_p\u001b[0m\u001b[1;33m\u001b[0m\u001b[0m\n\u001b[1;32m    108\u001b[0m     \u001b[1;32mreturn\u001b[0m \u001b[0mlib\u001b[0m\u001b[1;33m\u001b[0m\u001b[0m\n",
      "\u001b[0;32mC:\\Program Files\\Anaconda3\\envs\\py27\\lib\\ctypes\\__init__.pyc\u001b[0m in \u001b[0;36mLoadLibrary\u001b[0;34m(self, name)\u001b[0m\n\u001b[1;32m    438\u001b[0m \u001b[1;33m\u001b[0m\u001b[0m\n\u001b[1;32m    439\u001b[0m     \u001b[1;32mdef\u001b[0m \u001b[0mLoadLibrary\u001b[0m\u001b[1;33m(\u001b[0m\u001b[0mself\u001b[0m\u001b[1;33m,\u001b[0m \u001b[0mname\u001b[0m\u001b[1;33m)\u001b[0m\u001b[1;33m:\u001b[0m\u001b[1;33m\u001b[0m\u001b[0m\n\u001b[0;32m--> 440\u001b[0;31m         \u001b[1;32mreturn\u001b[0m \u001b[0mself\u001b[0m\u001b[1;33m.\u001b[0m\u001b[0m_dlltype\u001b[0m\u001b[1;33m(\u001b[0m\u001b[0mname\u001b[0m\u001b[1;33m)\u001b[0m\u001b[1;33m\u001b[0m\u001b[0m\n\u001b[0m\u001b[1;32m    441\u001b[0m \u001b[1;33m\u001b[0m\u001b[0m\n\u001b[1;32m    442\u001b[0m \u001b[0mcdll\u001b[0m \u001b[1;33m=\u001b[0m \u001b[0mLibraryLoader\u001b[0m\u001b[1;33m(\u001b[0m\u001b[0mCDLL\u001b[0m\u001b[1;33m)\u001b[0m\u001b[1;33m\u001b[0m\u001b[0m\n",
      "\u001b[0;32mC:\\Program Files\\Anaconda3\\envs\\py27\\lib\\ctypes\\__init__.pyc\u001b[0m in \u001b[0;36m__init__\u001b[0;34m(self, name, mode, handle, use_errno, use_last_error)\u001b[0m\n\u001b[1;32m    360\u001b[0m \u001b[1;33m\u001b[0m\u001b[0m\n\u001b[1;32m    361\u001b[0m         \u001b[1;32mif\u001b[0m \u001b[0mhandle\u001b[0m \u001b[1;32mis\u001b[0m \u001b[0mNone\u001b[0m\u001b[1;33m:\u001b[0m\u001b[1;33m\u001b[0m\u001b[0m\n\u001b[0;32m--> 362\u001b[0;31m             \u001b[0mself\u001b[0m\u001b[1;33m.\u001b[0m\u001b[0m_handle\u001b[0m \u001b[1;33m=\u001b[0m \u001b[0m_dlopen\u001b[0m\u001b[1;33m(\u001b[0m\u001b[0mself\u001b[0m\u001b[1;33m.\u001b[0m\u001b[0m_name\u001b[0m\u001b[1;33m,\u001b[0m \u001b[0mmode\u001b[0m\u001b[1;33m)\u001b[0m\u001b[1;33m\u001b[0m\u001b[0m\n\u001b[0m\u001b[1;32m    363\u001b[0m         \u001b[1;32melse\u001b[0m\u001b[1;33m:\u001b[0m\u001b[1;33m\u001b[0m\u001b[0m\n\u001b[1;32m    364\u001b[0m             \u001b[0mself\u001b[0m\u001b[1;33m.\u001b[0m\u001b[0m_handle\u001b[0m \u001b[1;33m=\u001b[0m \u001b[0mhandle\u001b[0m\u001b[1;33m\u001b[0m\u001b[0m\n",
      "\u001b[0;31mWindowsError\u001b[0m: [Error 126] "
     ]
    }
   ],
   "source": [
    "import xgboost as xgb"
   ]
  },
  {
   "cell_type": "code",
   "execution_count": 104,
   "metadata": {
    "collapsed": false
   },
   "outputs": [],
   "source": [
    "train = pd.read_csv(\"train.tsv\")\n",
    "test = pd.read_csv(\"test.tsv\")\n",
    "sample_submission = pd.read_csv(\"sample_submission.tsv\")"
   ]
  },
  {
   "cell_type": "code",
   "execution_count": 113,
   "metadata": {
    "collapsed": false
   },
   "outputs": [
    {
     "data": {
      "text/html": [
       "<div>\n",
       "<table border=\"1\" class=\"dataframe\">\n",
       "  <thead>\n",
       "    <tr style=\"text-align: right;\">\n",
       "      <th></th>\n",
       "      <th>Num</th>\n",
       "      <th>year</th>\n",
       "      <th>week</th>\n",
       "      <th>shift</th>\n",
       "      <th>item_id</th>\n",
       "      <th>f1</th>\n",
       "      <th>f2</th>\n",
       "      <th>f3</th>\n",
       "      <th>f4</th>\n",
       "      <th>f5</th>\n",
       "      <th>...</th>\n",
       "      <th>f51</th>\n",
       "      <th>f52</th>\n",
       "      <th>f53</th>\n",
       "      <th>f54</th>\n",
       "      <th>f55</th>\n",
       "      <th>f56</th>\n",
       "      <th>f57</th>\n",
       "      <th>f58</th>\n",
       "      <th>f59</th>\n",
       "      <th>f60</th>\n",
       "    </tr>\n",
       "  </thead>\n",
       "  <tbody>\n",
       "    <tr>\n",
       "      <th>0</th>\n",
       "      <td>348622</td>\n",
       "      <td>2015</td>\n",
       "      <td>3</td>\n",
       "      <td>3</td>\n",
       "      <td>20447918</td>\n",
       "      <td>960.0</td>\n",
       "      <td>820.0</td>\n",
       "      <td>1128.0</td>\n",
       "      <td>1801.0</td>\n",
       "      <td>1045.0</td>\n",
       "      <td>...</td>\n",
       "      <td>1510.0</td>\n",
       "      <td>580.0</td>\n",
       "      <td>969.0</td>\n",
       "      <td>1635.0</td>\n",
       "      <td>895.0</td>\n",
       "      <td>2140.0</td>\n",
       "      <td>1182.0</td>\n",
       "      <td>1020.0</td>\n",
       "      <td>1293.0</td>\n",
       "      <td>1290.0</td>\n",
       "    </tr>\n",
       "    <tr>\n",
       "      <th>1</th>\n",
       "      <td>348623</td>\n",
       "      <td>2015</td>\n",
       "      <td>3</td>\n",
       "      <td>3</td>\n",
       "      <td>20447902</td>\n",
       "      <td>9086.0</td>\n",
       "      <td>12585.0</td>\n",
       "      <td>11595.0</td>\n",
       "      <td>9685.0</td>\n",
       "      <td>12917.0</td>\n",
       "      <td>...</td>\n",
       "      <td>22055.0</td>\n",
       "      <td>14235.0</td>\n",
       "      <td>21195.0</td>\n",
       "      <td>18280.0</td>\n",
       "      <td>18270.0</td>\n",
       "      <td>15851.0</td>\n",
       "      <td>16920.0</td>\n",
       "      <td>18320.0</td>\n",
       "      <td>24116.0</td>\n",
       "      <td>21307.0</td>\n",
       "    </tr>\n",
       "    <tr>\n",
       "      <th>2</th>\n",
       "      <td>348624</td>\n",
       "      <td>2015</td>\n",
       "      <td>3</td>\n",
       "      <td>3</td>\n",
       "      <td>20447732</td>\n",
       "      <td>115087.0</td>\n",
       "      <td>147287.0</td>\n",
       "      <td>176065.0</td>\n",
       "      <td>143105.0</td>\n",
       "      <td>202069.0</td>\n",
       "      <td>...</td>\n",
       "      <td>302165.0</td>\n",
       "      <td>162232.0</td>\n",
       "      <td>221622.0</td>\n",
       "      <td>256605.0</td>\n",
       "      <td>240047.0</td>\n",
       "      <td>236630.0</td>\n",
       "      <td>206697.0</td>\n",
       "      <td>245652.0</td>\n",
       "      <td>286179.0</td>\n",
       "      <td>285904.0</td>\n",
       "    </tr>\n",
       "    <tr>\n",
       "      <th>3</th>\n",
       "      <td>348625</td>\n",
       "      <td>2015</td>\n",
       "      <td>3</td>\n",
       "      <td>3</td>\n",
       "      <td>20443951</td>\n",
       "      <td>20900.0</td>\n",
       "      <td>24420.0</td>\n",
       "      <td>27068.0</td>\n",
       "      <td>20460.0</td>\n",
       "      <td>25580.0</td>\n",
       "      <td>...</td>\n",
       "      <td>39055.0</td>\n",
       "      <td>14445.0</td>\n",
       "      <td>22450.0</td>\n",
       "      <td>22093.0</td>\n",
       "      <td>31175.0</td>\n",
       "      <td>23355.0</td>\n",
       "      <td>15358.0</td>\n",
       "      <td>18930.0</td>\n",
       "      <td>29643.0</td>\n",
       "      <td>33970.0</td>\n",
       "    </tr>\n",
       "    <tr>\n",
       "      <th>4</th>\n",
       "      <td>348626</td>\n",
       "      <td>2015</td>\n",
       "      <td>3</td>\n",
       "      <td>3</td>\n",
       "      <td>20443944</td>\n",
       "      <td>4430.0</td>\n",
       "      <td>5864.0</td>\n",
       "      <td>3310.0</td>\n",
       "      <td>1853.0</td>\n",
       "      <td>2836.0</td>\n",
       "      <td>...</td>\n",
       "      <td>120.0</td>\n",
       "      <td>130.0</td>\n",
       "      <td>60.0</td>\n",
       "      <td>30.0</td>\n",
       "      <td>50.0</td>\n",
       "      <td>20.0</td>\n",
       "      <td>20.0</td>\n",
       "      <td>30.0</td>\n",
       "      <td>0.0</td>\n",
       "      <td>0.0</td>\n",
       "    </tr>\n",
       "  </tbody>\n",
       "</table>\n",
       "<p>5 rows × 65 columns</p>\n",
       "</div>"
      ],
      "text/plain": [
       "      Num  year  week  shift   item_id        f1        f2        f3  \\\n",
       "0  348622  2015     3      3  20447918     960.0     820.0    1128.0   \n",
       "1  348623  2015     3      3  20447902    9086.0   12585.0   11595.0   \n",
       "2  348624  2015     3      3  20447732  115087.0  147287.0  176065.0   \n",
       "3  348625  2015     3      3  20443951   20900.0   24420.0   27068.0   \n",
       "4  348626  2015     3      3  20443944    4430.0    5864.0    3310.0   \n",
       "\n",
       "         f4        f5    ...          f51       f52       f53       f54  \\\n",
       "0    1801.0    1045.0    ...       1510.0     580.0     969.0    1635.0   \n",
       "1    9685.0   12917.0    ...      22055.0   14235.0   21195.0   18280.0   \n",
       "2  143105.0  202069.0    ...     302165.0  162232.0  221622.0  256605.0   \n",
       "3   20460.0   25580.0    ...      39055.0   14445.0   22450.0   22093.0   \n",
       "4    1853.0    2836.0    ...        120.0     130.0      60.0      30.0   \n",
       "\n",
       "        f55       f56       f57       f58       f59       f60  \n",
       "0     895.0    2140.0    1182.0    1020.0    1293.0    1290.0  \n",
       "1   18270.0   15851.0   16920.0   18320.0   24116.0   21307.0  \n",
       "2  240047.0  236630.0  206697.0  245652.0  286179.0  285904.0  \n",
       "3   31175.0   23355.0   15358.0   18930.0   29643.0   33970.0  \n",
       "4      50.0      20.0      20.0      30.0       0.0       0.0  \n",
       "\n",
       "[5 rows x 65 columns]"
      ]
     },
     "execution_count": 113,
     "metadata": {},
     "output_type": "execute_result"
    }
   ],
   "source": [
    "# посмотрим, что представляют из себя данные\n",
    "test.head()"
   ]
  },
  {
   "cell_type": "code",
   "execution_count": 114,
   "metadata": {
    "collapsed": false
   },
   "outputs": [
    {
     "name": "stdout",
     "output_type": "stream",
     "text": [
      "2016\n"
     ]
    }
   ],
   "source": [
    "print len(test)"
   ]
  },
  {
   "cell_type": "code",
   "execution_count": 105,
   "metadata": {
    "collapsed": false
   },
   "outputs": [
    {
     "name": "stdout",
     "output_type": "stream",
     "text": [
      "(72457, 72457)\n"
     ]
    }
   ],
   "source": [
    "frac = 1# fraction of learning examples used for model fitting\n",
    "\n",
    "# sample the train set if your don't want to deel with all examples\n",
    "train = train.sample(frac=frac, random_state=42)\n",
    "\n",
    "X = train.drop(['Num','y'], axis=1)\n",
    "y = train['y']\n",
    "print(len(X), len(y))"
   ]
  },
  {
   "cell_type": "markdown",
   "metadata": {},
   "source": [
    "### Подбор параметров\n",
    "\n",
    "Попробуем подобрать глобальные параметры алгоритма, такие как количество деревьев, максимальная глубина деревьев и размер шага $\\eta$, для этого используем кросс валидацию. Хотя алгоритм градиентного бустинга засчет шага $\\eta$ оказывается довольно устойчивым к переобучению, так что я ожидаю, что при увеличении количества деревьев, качество увеличится"
   ]
  },
  {
   "cell_type": "code",
   "execution_count": 59,
   "metadata": {
    "collapsed": true
   },
   "outputs": [],
   "source": [
    "# будем минимизировать ошибку SMAPE, так как именно она используется для проверки качества\n",
    "def SMAPE(preds, y_test):\n",
    "    preds = np.array(preds)\n",
    "    y_test = np.array(y_test)\n",
    "    if len(preds) != len(y_test):\n",
    "        raise BaseException\n",
    "    return 200*(abs((preds-y_test)*1.)/(abs(preds)+abs(y_test))).mean()"
   ]
  },
  {
   "cell_type": "code",
   "execution_count": 60,
   "metadata": {
    "collapsed": false
   },
   "outputs": [
    {
     "name": "stdout",
     "output_type": "stream",
     "text": [
      "[2012 2013 2014 2015]\n"
     ]
    }
   ],
   "source": [
    "# посмотрим, по каким годам у нас есть данные\n",
    "years = np.unique(train['year']) \n",
    "print(years)"
   ]
  },
  {
   "cell_type": "code",
   "execution_count": 106,
   "metadata": {
    "collapsed": true
   },
   "outputs": [],
   "source": [
    "# сформируем выборки по годам\n",
    "X_subtrains = []\n",
    "y_subtrains = []\n",
    "\n",
    "for year in years:\n",
    "    X_subtrains.append(X[X['year']==year])\n",
    "    y_subtrains.append(train[train['year']==year]['y'])"
   ]
  },
  {
   "cell_type": "code",
   "execution_count": 112,
   "metadata": {
    "collapsed": false
   },
   "outputs": [
    {
     "name": "stdout",
     "output_type": "stream",
     "text": [
      "Количество элементов в выборке за  2012  год  235\n",
      "Количество элементов в выборке за  2013  год  35337\n",
      "Количество элементов в выборке за  2014  год  35544\n",
      "Количество элементов в выборке за  2015  год  1341\n"
     ]
    }
   ],
   "source": [
    "# посмотрим, сколько элементов в каждой выборке\n",
    "for i in range(4):\n",
    "    print \"Количество элементов в выборке за \", years[i], \" год \", len(X[X['year']==years[i]])"
   ]
  },
  {
   "cell_type": "markdown",
   "metadata": {},
   "source": [
    "Видно, что данных за 2012 и за 2015 год не очень много"
   ]
  },
  {
   "cell_type": "code",
   "execution_count": 111,
   "metadata": {
    "collapsed": false
   },
   "outputs": [
    {
     "name": "stdout",
     "output_type": "stream",
     "text": [
      "4\n"
     ]
    }
   ],
   "source": [
    "X_subtr = []"
   ]
  },
  {
   "cell_type": "code",
   "execution_count": null,
   "metadata": {
    "collapsed": true
   },
   "outputs": [],
   "source": [
    "model = XGBRegressor(n_estimators=100, max_depth=14, learning_rate=0.03, seed=95)\n",
    "\n",
    "x_sub = X[X['year']<2015]\n",
    "y_sub = train[train['year']<2015]['y']\n",
    "print len(y_sub)\n",
    "model.fit(x_sub, y_sub)\n",
    "preds = model.predict(X_subtrains[3])"
   ]
  },
  {
   "cell_type": "code",
   "execution_count": 108,
   "metadata": {
    "collapsed": false
   },
   "outputs": [
    {
     "name": "stdout",
     "output_type": "stream",
     "text": [
      "1341\n",
      "35544\n",
      "35337\n",
      "235\n"
     ]
    }
   ],
   "source": [
    "print(len(X_subtrains[3]))\n",
    "print(len(X_subtrains[2]))\n",
    "print(len(X_subtrains[1]))\n",
    "print(len(X_subtrains[0]))\n",
    "#SMAPE(preds, y_subtrains[3])"
   ]
  },
  {
   "cell_type": "code",
   "execution_count": 88,
   "metadata": {
    "collapsed": false
   },
   "outputs": [
    {
     "name": "stdout",
     "output_type": "stream",
     "text": [
      "49.5572293985\n"
     ]
    }
   ],
   "source": [
    "%%time\n",
    "print validation(X_subtrains, y_subtrains, 100, 14, 0.03)"
   ]
  },
  {
   "cell_type": "markdown",
   "metadata": {},
   "source": [
    " Для решения задачи прогнозирования спроса будем использовать алгоритм градиентного бустинга из библиотеки xgboost"
   ]
  },
  {
   "cell_type": "code",
   "execution_count": 4,
   "metadata": {
    "collapsed": false
   },
   "outputs": [
    {
     "ename": "WindowsError",
     "evalue": "[Error 126] ",
     "output_type": "error",
     "traceback": [
      "\u001b[0;31m---------------------------------------------------------------------------\u001b[0m",
      "\u001b[0;31mWindowsError\u001b[0m                              Traceback (most recent call last)",
      "\u001b[0;32m<ipython-input-4-b25935c1568f>\u001b[0m in \u001b[0;36m<module>\u001b[0;34m()\u001b[0m\n\u001b[0;32m----> 1\u001b[0;31m \u001b[1;32mfrom\u001b[0m \u001b[0mxgboost\u001b[0m \u001b[1;32mimport\u001b[0m \u001b[0mXGBRegressor\u001b[0m\u001b[1;33m\u001b[0m\u001b[0m\n\u001b[0m",
      "\u001b[0;32mC:\\Program Files\\Anaconda3\\envs\\py27\\lib\\site-packages\\xgboost-0.6-py2.7.egg\\xgboost\\__init__.py\u001b[0m in \u001b[0;36m<module>\u001b[0;34m()\u001b[0m\n\u001b[1;32m      9\u001b[0m \u001b[1;32mimport\u001b[0m \u001b[0mos\u001b[0m\u001b[1;33m\u001b[0m\u001b[0m\n\u001b[1;32m     10\u001b[0m \u001b[1;33m\u001b[0m\u001b[0m\n\u001b[0;32m---> 11\u001b[0;31m \u001b[1;32mfrom\u001b[0m \u001b[1;33m.\u001b[0m\u001b[0mcore\u001b[0m \u001b[1;32mimport\u001b[0m \u001b[0mDMatrix\u001b[0m\u001b[1;33m,\u001b[0m \u001b[0mBooster\u001b[0m\u001b[1;33m\u001b[0m\u001b[0m\n\u001b[0m\u001b[1;32m     12\u001b[0m \u001b[1;32mfrom\u001b[0m \u001b[1;33m.\u001b[0m\u001b[0mtraining\u001b[0m \u001b[1;32mimport\u001b[0m \u001b[0mtrain\u001b[0m\u001b[1;33m,\u001b[0m \u001b[0mcv\u001b[0m\u001b[1;33m\u001b[0m\u001b[0m\n\u001b[1;32m     13\u001b[0m \u001b[1;32mfrom\u001b[0m \u001b[1;33m.\u001b[0m \u001b[1;32mimport\u001b[0m \u001b[0mrabit\u001b[0m                   \u001b[1;31m# noqa\u001b[0m\u001b[1;33m\u001b[0m\u001b[0m\n",
      "\u001b[0;32mC:\\Program Files\\Anaconda3\\envs\\py27\\lib\\site-packages\\xgboost-0.6-py2.7.egg\\xgboost\\core.py\u001b[0m in \u001b[0;36m<module>\u001b[0;34m()\u001b[0m\n\u001b[1;32m    110\u001b[0m \u001b[1;33m\u001b[0m\u001b[0m\n\u001b[1;32m    111\u001b[0m \u001b[1;31m# load the XGBoost library globally\u001b[0m\u001b[1;33m\u001b[0m\u001b[1;33m\u001b[0m\u001b[0m\n\u001b[0;32m--> 112\u001b[0;31m \u001b[0m_LIB\u001b[0m \u001b[1;33m=\u001b[0m \u001b[0m_load_lib\u001b[0m\u001b[1;33m(\u001b[0m\u001b[1;33m)\u001b[0m\u001b[1;33m\u001b[0m\u001b[0m\n\u001b[0m\u001b[1;32m    113\u001b[0m \u001b[1;33m\u001b[0m\u001b[0m\n\u001b[1;32m    114\u001b[0m \u001b[1;33m\u001b[0m\u001b[0m\n",
      "\u001b[0;32mC:\\Program Files\\Anaconda3\\envs\\py27\\lib\\site-packages\\xgboost-0.6-py2.7.egg\\xgboost\\core.py\u001b[0m in \u001b[0;36m_load_lib\u001b[0;34m()\u001b[0m\n\u001b[1;32m    104\u001b[0m     \u001b[1;32mif\u001b[0m \u001b[0mlen\u001b[0m\u001b[1;33m(\u001b[0m\u001b[0mlib_path\u001b[0m\u001b[1;33m)\u001b[0m \u001b[1;33m==\u001b[0m \u001b[1;36m0\u001b[0m\u001b[1;33m:\u001b[0m\u001b[1;33m\u001b[0m\u001b[0m\n\u001b[1;32m    105\u001b[0m         \u001b[1;32mreturn\u001b[0m \u001b[0mNone\u001b[0m\u001b[1;33m\u001b[0m\u001b[0m\n\u001b[0;32m--> 106\u001b[0;31m     \u001b[0mlib\u001b[0m \u001b[1;33m=\u001b[0m \u001b[0mctypes\u001b[0m\u001b[1;33m.\u001b[0m\u001b[0mcdll\u001b[0m\u001b[1;33m.\u001b[0m\u001b[0mLoadLibrary\u001b[0m\u001b[1;33m(\u001b[0m\u001b[0mlib_path\u001b[0m\u001b[1;33m[\u001b[0m\u001b[1;36m0\u001b[0m\u001b[1;33m]\u001b[0m\u001b[1;33m)\u001b[0m\u001b[1;33m\u001b[0m\u001b[0m\n\u001b[0m\u001b[1;32m    107\u001b[0m     \u001b[0mlib\u001b[0m\u001b[1;33m.\u001b[0m\u001b[0mXGBGetLastError\u001b[0m\u001b[1;33m.\u001b[0m\u001b[0mrestype\u001b[0m \u001b[1;33m=\u001b[0m \u001b[0mctypes\u001b[0m\u001b[1;33m.\u001b[0m\u001b[0mc_char_p\u001b[0m\u001b[1;33m\u001b[0m\u001b[0m\n\u001b[1;32m    108\u001b[0m     \u001b[1;32mreturn\u001b[0m \u001b[0mlib\u001b[0m\u001b[1;33m\u001b[0m\u001b[0m\n",
      "\u001b[0;32mC:\\Program Files\\Anaconda3\\envs\\py27\\lib\\ctypes\\__init__.pyc\u001b[0m in \u001b[0;36mLoadLibrary\u001b[0;34m(self, name)\u001b[0m\n\u001b[1;32m    438\u001b[0m \u001b[1;33m\u001b[0m\u001b[0m\n\u001b[1;32m    439\u001b[0m     \u001b[1;32mdef\u001b[0m \u001b[0mLoadLibrary\u001b[0m\u001b[1;33m(\u001b[0m\u001b[0mself\u001b[0m\u001b[1;33m,\u001b[0m \u001b[0mname\u001b[0m\u001b[1;33m)\u001b[0m\u001b[1;33m:\u001b[0m\u001b[1;33m\u001b[0m\u001b[0m\n\u001b[0;32m--> 440\u001b[0;31m         \u001b[1;32mreturn\u001b[0m \u001b[0mself\u001b[0m\u001b[1;33m.\u001b[0m\u001b[0m_dlltype\u001b[0m\u001b[1;33m(\u001b[0m\u001b[0mname\u001b[0m\u001b[1;33m)\u001b[0m\u001b[1;33m\u001b[0m\u001b[0m\n\u001b[0m\u001b[1;32m    441\u001b[0m \u001b[1;33m\u001b[0m\u001b[0m\n\u001b[1;32m    442\u001b[0m \u001b[0mcdll\u001b[0m \u001b[1;33m=\u001b[0m \u001b[0mLibraryLoader\u001b[0m\u001b[1;33m(\u001b[0m\u001b[0mCDLL\u001b[0m\u001b[1;33m)\u001b[0m\u001b[1;33m\u001b[0m\u001b[0m\n",
      "\u001b[0;32mC:\\Program Files\\Anaconda3\\envs\\py27\\lib\\ctypes\\__init__.pyc\u001b[0m in \u001b[0;36m__init__\u001b[0;34m(self, name, mode, handle, use_errno, use_last_error)\u001b[0m\n\u001b[1;32m    360\u001b[0m \u001b[1;33m\u001b[0m\u001b[0m\n\u001b[1;32m    361\u001b[0m         \u001b[1;32mif\u001b[0m \u001b[0mhandle\u001b[0m \u001b[1;32mis\u001b[0m \u001b[0mNone\u001b[0m\u001b[1;33m:\u001b[0m\u001b[1;33m\u001b[0m\u001b[0m\n\u001b[0;32m--> 362\u001b[0;31m             \u001b[0mself\u001b[0m\u001b[1;33m.\u001b[0m\u001b[0m_handle\u001b[0m \u001b[1;33m=\u001b[0m \u001b[0m_dlopen\u001b[0m\u001b[1;33m(\u001b[0m\u001b[0mself\u001b[0m\u001b[1;33m.\u001b[0m\u001b[0m_name\u001b[0m\u001b[1;33m,\u001b[0m \u001b[0mmode\u001b[0m\u001b[1;33m)\u001b[0m\u001b[1;33m\u001b[0m\u001b[0m\n\u001b[0m\u001b[1;32m    363\u001b[0m         \u001b[1;32melse\u001b[0m\u001b[1;33m:\u001b[0m\u001b[1;33m\u001b[0m\u001b[0m\n\u001b[1;32m    364\u001b[0m             \u001b[0mself\u001b[0m\u001b[1;33m.\u001b[0m\u001b[0m_handle\u001b[0m \u001b[1;33m=\u001b[0m \u001b[0mhandle\u001b[0m\u001b[1;33m\u001b[0m\u001b[0m\n",
      "\u001b[0;31mWindowsError\u001b[0m: [Error 126] "
     ]
    }
   ],
   "source": [
    "from xgboost import XGBRegressor"
   ]
  },
  {
   "cell_type": "code",
   "execution_count": 87,
   "metadata": {
    "collapsed": true
   },
   "outputs": [],
   "source": [
    "# Функция принимает данные, разделённые на фолды, количество деревьев, максимальную глубину, размер шага по вектору \n",
    "# антиградиента\n",
    "# Так же можно подобрать параметры регуляризации lambda и alpha, alpha мы использовать не будем, а вот с lambda возможно\n",
    "# что-нибудь поделать, если не слишком долго будем подбирать другие параметры, пока установим по умолчанию = 1\n",
    "# на выходе получаем среднее значение ошибки SMAPE\n",
    "\n",
    "def validation(X, y, n_trees=100 , depth=5, eta=0.1):\n",
    "    SMAPE_scores = []\n",
    "    for i in range(2, len(X_subtrains)):\n",
    "        X_train = X_subtrains[0]\n",
    "        y_train = y_subtrains[0]\n",
    "        for j in range(1,i):\n",
    "            X_train = X_train.append(X_subtrains[j])\n",
    "            y_train = y_train.append(y_subtrains[j])\n",
    "        model = XGBRegressor(max_depth=depth, learning_rate=eta, n_estimators=n_trees, seed=95)\n",
    "        model.fit(X_train, y_train)\n",
    "\n",
    "        preds = model.predict(X[i])\n",
    "        SMAPE_scores.append(SMAPE(preds, y[i]))\n",
    "        \n",
    "    SMAPE_scores = np.array(SMAPE_scores)\n",
    "    return SMAPE_scores.mean()"
   ]
  },
  {
   "cell_type": "code",
   "execution_count": 19,
   "metadata": {
    "collapsed": true
   },
   "outputs": [],
   "source": [
    "# теперь попробуем подобрать параметры для нашей модели с помощью кросс валидации\n",
    "n_trees = [25, 50, 100, 150, 200]\n",
    "etas = [0.01*i for i in range(1, 11)]\n",
    "depths = [3, 5, 11, 17]"
   ]
  },
  {
   "cell_type": "code",
   "execution_count": 20,
   "metadata": {
    "collapsed": false
   },
   "outputs": [
    {
     "name": "stderr",
     "output_type": "stream",
     "text": [
      "100%|██████████████████████████████████████████████████████████████████████████████| 10/10 [3:00:50<00:00, 1550.70s/it]\n"
     ]
    }
   ],
   "source": [
    "# измерим ошибку в зависимости от параметров\n",
    "from tqdm import tqdm\n",
    "\n",
    "scores = []\n",
    "for n_tree in tqdm(n_trees):\n",
    "    for eta in etas:\n",
    "        for depth in depths:\n",
    "            score = validation(X_subtrains, y_subtrains, n_tree, depth, eta)\n",
    "            scores.append([score, n_tree, eta, depth])"
   ]
  },
  {
   "cell_type": "code",
   "execution_count": 22,
   "metadata": {
    "collapsed": false
   },
   "outputs": [
    {
     "name": "stdout",
     "output_type": "stream",
     "text": [
      "[[57.832660222224888, 25, 0.05, 17], [58.085145757247801, 25, 0.15000000000000002, 17], [58.088538334765701, 25, 0.05, 11], [58.367212237622482, 50, 0.05, 17], [58.995606891959277, 25, 0.1, 17], [59.141648513366732, 75, 0.05, 17], [59.615137509520615, 100, 0.05, 17], [59.704210091939025, 25, 0.15000000000000002, 11], [59.791461688649868, 50, 0.05, 11], [59.932945981850537, 125, 0.05, 17], [59.95101521877433, 50, 0.15000000000000002, 17], [59.986639041541515, 75, 0.15000000000000002, 17], [60.070225568796765, 50, 0.1, 17], [60.252775614372979, 100, 0.15000000000000002, 17], [60.267849614109743, 125, 0.15000000000000002, 17], [60.328893056224452, 25, 0.2, 17], [60.342125705058571, 25, 0.1, 11], [60.381414499335108, 150, 0.05, 17], [60.411060288628583, 175, 0.15000000000000002, 17], [60.4430947686241, 150, 0.15000000000000002, 17], [60.44527447567733, 200, 0.15000000000000002, 17], [60.470855153992794, 225, 0.15000000000000002, 17], [60.511911199632955, 250, 0.15000000000000002, 17], [60.790799069707113, 175, 0.05, 17], [60.907451089724965, 75, 0.05, 11], [61.120404463044935, 200, 0.05, 17], [61.135495136314965, 75, 0.1, 17], [61.273334002866754, 225, 0.05, 17], [61.44063279759979, 250, 0.05, 17], [62.001695947060661, 100, 0.1, 17], [62.135457555516176, 125, 0.1, 17], [62.15478938868997, 150, 0.1, 17], [62.182172366634944, 50, 0.1, 11], [62.232683860401984, 250, 0.1, 17], [62.254273307202169, 225, 0.1, 17], [62.26723246033518, 200, 0.1, 17], [62.285195603647935, 175, 0.1, 17], [62.327544276623854, 25, 0.2, 11], [62.389587966581963, 100, 0.05, 11], [62.524032222005246, 50, 0.2, 17], [63.198462718566709, 75, 0.2, 17], [63.301447971949955, 100, 0.2, 17], [63.305049395263779, 125, 0.2, 17], [63.31999379717319, 175, 0.2, 17], [63.372133451683858, 225, 0.2, 17], [63.381524137662808, 150, 0.2, 17], [63.381937950372397, 200, 0.2, 17], [63.447883680522636, 250, 0.2, 17], [64.118644555992418, 125, 0.05, 11], [64.26393655714169, 50, 0.15000000000000002, 11], [65.123824561082529, 150, 0.05, 11], [65.864393175377344, 75, 0.1, 11], [66.218601478150632, 175, 0.05, 11], [67.084698900836102, 75, 0.15000000000000002, 11], [67.116339599275435, 200, 0.05, 11], [67.144234376011624, 25, 0.05, 5], [67.165808682171374, 100, 0.15000000000000002, 11], [67.39741628695073, 100, 0.1, 11], [67.422731582133238, 250, 0.15000000000000002, 11], [67.545402661247991, 150, 0.15000000000000002, 11], [67.560465096876385, 225, 0.15000000000000002, 11], [67.568743500895224, 225, 0.05, 11], [67.580374874204381, 125, 0.15000000000000002, 11], [67.590648602504942, 200, 0.15000000000000002, 11], [67.598864749605511, 175, 0.15000000000000002, 11], [67.912929471267319, 250, 0.05, 11], [67.957021892080036, 50, 0.2, 11], [68.026713586588016, 125, 0.1, 11], [68.033143988087957, 150, 0.1, 11], [68.049530771283415, 175, 0.1, 11], [68.104345354008672, 250, 0.1, 11], [68.129316766722468, 200, 0.1, 11], [68.181454661514678, 225, 0.1, 11], [68.806135278154784, 50, 0.05, 5], [69.080749795294423, 75, 0.2, 11], [69.195938341220838, 25, 0.1, 5], [69.488457702782028, 250, 0.2, 11], [69.714185667993576, 150, 0.2, 11], [69.825679545580968, 175, 0.2, 11], [69.836455555496187, 100, 0.2, 11], [69.852336920251688, 200, 0.2, 11], [69.904751318784292, 225, 0.2, 11], [69.963991857376129, 125, 0.2, 11], [72.279643102891598, 25, 0.15000000000000002, 5], [73.263822474712597, 25, 0.2, 5], [74.352701959706835, 75, 0.05, 5], [74.660076710176625, 50, 0.1, 5], [75.558909054819395, 100, 0.05, 5], [76.877770128252607, 75, 0.1, 5], [77.117193748358986, 75, 0.05, 3], [77.550704506060569, 50, 0.15000000000000002, 5], [78.333400914663457, 75, 0.15000000000000002, 5], [78.570550560940276, 125, 0.05, 5], [78.874955840611577, 125, 0.15000000000000002, 5], [79.20223465374653, 150, 0.15000000000000002, 5], [79.256085626975931, 150, 0.05, 5], [79.470432161825428, 50, 0.2, 5], [79.742573462638674, 200, 0.15000000000000002, 5], [80.023875510172687, 100, 0.1, 5], [80.145752598610642, 225, 0.15000000000000002, 5], [80.270226773463264, 150, 0.1, 5], [80.367537656956927, 100, 0.15000000000000002, 5], [80.672074890574947, 175, 0.05, 5], [80.990439216817947, 250, 0.15000000000000002, 5], [81.065174248476367, 125, 0.1, 5], [81.435800763036141, 200, 0.05, 5], [81.493452443362969, 175, 0.15000000000000002, 5], [81.711304959843119, 225, 0.05, 5], [81.958820524000615, 175, 0.1, 5], [82.213378634119181, 200, 0.1, 5], [82.342330059829735, 250, 0.05, 5], [83.05456855090047, 225, 0.1, 5], [83.233815631478834, 125, 0.1, 3], [83.692903773474015, 225, 0.2, 5], [84.312451271989971, 250, 0.1, 5], [84.681377346329739, 175, 0.2, 5], [84.730298633718462, 150, 0.2, 5], [84.904353986306475, 200, 0.2, 5], [84.925877805449389, 25, 0.1, 3], [84.93129138208873, 75, 0.2, 5], [85.009889908744626, 100, 0.1, 3], [85.114383371394112, 100, 0.2, 5], [85.134125387570322, 150, 0.1, 3], [85.294974554944261, 50, 0.05, 3], [85.336679687094048, 250, 0.2, 5], [85.343520338443682, 125, 0.2, 5], [85.960044339308297, 25, 0.05, 3], [86.122127126170497, 25, 0.15000000000000002, 3], [86.493159004395025, 175, 0.1, 3], [86.957687731108379, 75, 0.15000000000000002, 3], [87.044681373771326, 50, 0.15000000000000002, 3], [87.046655826692017, 200, 0.1, 3], [87.464051429630317, 100, 0.2, 3], [87.664399046823561, 75, 0.1, 3], [87.758279340894191, 225, 0.1, 3], [87.863936982389006, 250, 0.1, 3], [88.147525530181269, 200, 0.05, 3], [88.161742007685106, 175, 0.05, 3], [88.49957044764102, 200, 0.15000000000000002, 3], [88.517016887276739, 225, 0.05, 3], [88.577802897161973, 250, 0.05, 3], [88.602585528788083, 150, 0.05, 3], [89.375372221266502, 100, 0.05, 3], [89.694158937106963, 50, 0.1, 3], [90.001610966594015, 100, 0.15000000000000002, 3], [90.453626450033539, 125, 0.05, 3], [90.644396190323718, 50, 0.2, 3], [90.740290327594039, 125, 0.15000000000000002, 3], [90.794663705895232, 175, 0.2, 3], [90.963022228758305, 200, 0.2, 3], [91.07551002735697, 175, 0.15000000000000002, 3], [91.114435094897729, 150, 0.15000000000000002, 3], [91.114980316117069, 150, 0.2, 3], [91.24637037333143, 75, 0.2, 3], [91.403486983643759, 225, 0.15000000000000002, 3], [91.466876604623963, 250, 0.15000000000000002, 3], [91.715243760824038, 125, 0.2, 3], [91.961886381478521, 25, 0.2, 3], [92.26502799395594, 250, 0.2, 3], [92.377879484358914, 225, 0.2, 3]]\n"
     ]
    }
   ],
   "source": [
    "# отсортируем полученные значения по возрастанию score, и посмот sortedа первые 10 значений\n",
    "scores = sorted(scores)\n",
    "print(scores)"
   ]
  },
  {
   "cell_type": "code",
   "execution_count": 37,
   "metadata": {
    "collapsed": false
   },
   "outputs": [
    {
     "name": "stdout",
     "output_type": "stream",
     "text": [
      "CPU times: user 32.6 s, sys: 108 ms, total: 32.7 s\n",
      "Wall time: 5.64 s\n"
     ]
    }
   ],
   "source": [
    "%%time\n",
    "\n",
    "model = XGBRegressor(n_estimators=100, max_depth=5)\n",
    "model.fit(X, y)\n",
    "\n",
    "preds = model.predict(test.drop(['Num'], axis=1))"
   ]
  },
  {
   "cell_type": "code",
   "execution_count": 45,
   "metadata": {
    "collapsed": true
   },
   "outputs": [],
   "source": [
    "my_submission['y'] = preds"
   ]
  },
  {
   "cell_type": "code",
   "execution_count": 51,
   "metadata": {
    "collapsed": true,
    "scrolled": true
   },
   "outputs": [],
   "source": [
    "# In GBM you can get some negative predictions:\n",
    "print(my_submission[my_submission['y'] < 0])"
   ]
  },
  {
   "cell_type": "code",
   "execution_count": 52,
   "metadata": {
    "collapsed": true
   },
   "outputs": [],
   "source": [
    "my_submission['y'] = my_submission['y'].map(lambda x: x if x > 0 else 0.0)"
   ]
  },
  {
   "cell_type": "code",
   "execution_count": 53,
   "metadata": {
    "collapsed": true
   },
   "outputs": [],
   "source": [
    "my_submission.to_csv(\"my_submission.tsv\", sep=',', index=False)"
   ]
  },
  {
   "cell_type": "code",
   "execution_count": 31,
   "metadata": {
    "collapsed": false
   },
   "outputs": [
    {
     "name": "stdout",
     "output_type": "stream",
     "text": [
      "[[-1, 2, 4], [0, 0, 0], [1, 2, 3]]\n"
     ]
    }
   ],
   "source": [
    "a = [[1,2,3], [0,0,0], [-1,2,4]]\n",
    "print(sorted(a))"
   ]
  },
  {
   "cell_type": "code",
   "execution_count": 38,
   "metadata": {
    "collapsed": false
   },
   "outputs": [
    {
     "name": "stdout",
     "output_type": "stream",
     "text": [
      "CPU times: user 1min 17s, sys: 488 ms, total: 1min 18s\n",
      "Wall time: 1min 19s\n"
     ]
    }
   ],
   "source": [
    "%%time\n",
    "import pandas as pd\n",
    "from sklearn.ensemble import GradientBoostingRegressor\n",
    "import sklearn\n",
    "import numpy as np\n",
    "model = GradientBoostingRegressor(n_estimators=100, max_depth=5, random_state=43)\n",
    "model.fit(X, y)\n",
    "\n",
    "preds = model.predict(test.drop(['Num'], axis=1))\n",
    "    "
   ]
  },
  {
   "cell_type": "code",
   "execution_count": null,
   "metadata": {
    "collapsed": true
   },
   "outputs": [],
   "source": [
    "scorer = make_scorer( score_func=SMAPE)\n",
    "\n",
    "tsv = TimeSeriesSplit(n_splits=3)\n",
    "model = XGBRegressor(n_estimators=100, max_depth=14, learning_rate=0.03, seed=95)\n",
    "print cross_val_score(model, X, y, cv=tsv, scoring=scorer)"
   ]
  }
 ],
 "metadata": {
  "kernelspec": {
   "display_name": "Python 2",
   "language": "python",
   "name": "python2"
  },
  "language_info": {
   "codemirror_mode": {
    "name": "ipython",
    "version": 2
   },
   "file_extension": ".py",
   "mimetype": "text/x-python",
   "name": "python",
   "nbconvert_exporter": "python",
   "pygments_lexer": "ipython2",
   "version": "2.7.13"
  }
 },
 "nbformat": 4,
 "nbformat_minor": 2
}
